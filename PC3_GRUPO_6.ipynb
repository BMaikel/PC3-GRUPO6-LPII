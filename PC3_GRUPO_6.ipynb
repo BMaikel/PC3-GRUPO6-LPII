{
  "nbformat": 4,
  "nbformat_minor": 0,
  "metadata": {
    "colab": {
      "provenance": []
    },
    "kernelspec": {
      "name": "python3",
      "display_name": "Python 3"
    },
    "language_info": {
      "name": "python"
    }
  },
  "cells": [
    {
      "cell_type": "markdown",
      "source": [
        "# **USO DE LA API DEL BCRP**\n",
        "\n",
        "![](https://i.ibb.co/64Sc8P1/logo-bcrp.jpg)\n",
        "\n",
        "## **I. INTRODUCCIÓN**\n",
        "La API para Desarrolladores contiene\n",
        "interfaces para la obtención de series\n",
        "estadísticas que puedan utilizarse desde\n",
        "otras aplicaciones Web.\n",
        "\n",
        "Las consultas a través de API utilizan los\n",
        "métodos de envío de datos desde HTML\n",
        "denominados GET y POST.\n",
        "\n",
        "Se pueden obtener resultados en diversos\n",
        "formatos de salida como HTML, Gráficos en\n",
        "FLASH, XLS, XML, JSON, JSONP, TXT y\n",
        "CSV."
      ],
      "metadata": {
        "id": "mqr7mmUIhZSl"
      }
    },
    {
      "cell_type": "markdown",
      "source": [
        "## **II. API DEL BCRP**"
      ],
      "metadata": {
        "id": "mRBW2q1d5fOW"
      }
    },
    {
      "cell_type": "code",
      "source": [
        "#La estructura es la siguiente:\n",
        "\"[URL_base]/[códigos de series]/[formato de salida]/[periodo inicial]/[periodo final]/[idioma]\"\n",
        "\n",
        "#Algunos códigos de serie:\n",
        "\"PN01770AM\" #PBI\n",
        "\"PN01142MM\" #Índide bersatil\n",
        "\"PN01288PM\" #Índicede PM sin alimentos"
      ],
      "metadata": {
        "colab": {
          "base_uri": "https://localhost:8080/",
          "height": 36
        },
        "id": "Ang_xDqU8jaI",
        "outputId": "043024f1-a072-425d-bc20-390cdf9e3b49"
      },
      "execution_count": 48,
      "outputs": [
        {
          "output_type": "execute_result",
          "data": {
            "text/plain": [
              "'PN01288PM'"
            ],
            "application/vnd.google.colaboratory.intrinsic+json": {
              "type": "string"
            }
          },
          "metadata": {},
          "execution_count": 48
        }
      ]
    },
    {
      "cell_type": "code",
      "source": [
        "#URL base:\n",
        "URL_base = \"https://estadisticas.bcrp.gob.pe/estadisticas/series/api/\"\n",
        "\n",
        "#Código de series mensuales\n",
        "cod_ser = \"PN01770AM\"\n",
        "\n",
        "#Formato\n",
        "formato = \"/json\"\n",
        "\n",
        "#Periodo\n",
        "per = \"/2005-1/2019-12\"\n",
        "\n",
        "#Idioma\n",
        "idioma = \"/esp\"\n",
        "\n",
        "URL = URL_base + cod_ser + formato + per + idioma\n",
        "\n",
        "print(URL)"
      ],
      "metadata": {
        "colab": {
          "base_uri": "https://localhost:8080/"
        },
        "id": "LsSDaMjH5e3-",
        "outputId": "102866d2-9096-4d5e-e482-f701f3543ff2"
      },
      "execution_count": 49,
      "outputs": [
        {
          "output_type": "stream",
          "name": "stdout",
          "text": [
            "https://estadisticas.bcrp.gob.pe/estadisticas/series/api/PN01770AM/json/2005-1/2019-12/esp\n"
          ]
        }
      ]
    }
  ]
}